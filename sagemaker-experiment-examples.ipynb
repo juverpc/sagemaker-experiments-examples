{
 "cells": [
  {
   "cell_type": "code",
   "execution_count": 1,
   "metadata": {},
   "outputs": [
    {
     "name": "stdout",
     "output_type": "stream",
     "text": [
      "Current experiments:\n"
     ]
    }
   ],
   "source": [
    "%run ./clear_experiments.ipynb"
   ]
  },
  {
   "cell_type": "code",
   "execution_count": 2,
   "metadata": {},
   "outputs": [],
   "source": [
    "import time, os, sys\n",
    "import sagemaker, boto3\n",
    "import numpy as np\n",
    "import pandas as pd\n",
    "import itertools\n",
    "from pprint import pprint\n",
    "\n",
    "sess = boto3.Session()\n",
    "sm   = sess.client('sagemaker')\n",
    "role = sagemaker.get_execution_role()\n",
    "sagemaker_session = sagemaker.Session(boto_session=sess)"
   ]
  },
  {
   "cell_type": "markdown",
   "metadata": {},
   "source": [
    "# Download cifar10 dataset and upload to Amazon S3"
   ]
  },
  {
   "cell_type": "code",
   "execution_count": 3,
   "metadata": {},
   "outputs": [],
   "source": [
    "# !python generate_cifar10_tfrecords.py --data-dir cifar10;\n",
    "# datasets = sagemaker_session.upload_data(path='cifar10', key_prefix='datasets/cifar10-dataset')"
   ]
  },
  {
   "cell_type": "code",
   "execution_count": 4,
   "metadata": {},
   "outputs": [],
   "source": [
    "bucket_name = sagemaker_session.default_bucket()\n",
    "datasets = f's3://{bucket_name}/datasets/cifar10-dataset'"
   ]
  },
  {
   "cell_type": "markdown",
   "metadata": {},
   "source": [
    "# Create an experiment to track training trials"
   ]
  },
  {
   "cell_type": "code",
   "execution_count": 5,
   "metadata": {},
   "outputs": [],
   "source": [
    "from smexperiments.experiment import Experiment\n",
    "from smexperiments.trial import Trial\n",
    "from smexperiments.trial_component import TrialComponent\n",
    "from smexperiments.tracker import Tracker"
   ]
  },
  {
   "cell_type": "code",
   "execution_count": 6,
   "metadata": {},
   "outputs": [],
   "source": [
    "training_experiment = Experiment.create(\n",
    "                                experiment_name = \"cifar10-training-experiment\",\n",
    "                                description     = \"Experiment to track cifar10 training trials\", \n",
    "                                sagemaker_boto_client=sm)"
   ]
  },
  {
   "cell_type": "markdown",
   "metadata": {},
   "source": [
    "# SageMaker training "
   ]
  },
  {
   "cell_type": "code",
   "execution_count": 7,
   "metadata": {},
   "outputs": [],
   "source": [
    "static_hyperparams={'epochs'       : 30,\n",
    "                    'learning-rate': 0.01,\n",
    "                    'weight-decay' : 2e-4,\n",
    "                    'momentum'     : 0.9}"
   ]
  },
  {
   "cell_type": "code",
   "execution_count": 8,
   "metadata": {},
   "outputs": [
    {
     "data": {
      "text/plain": [
       "[{'batch-size': 64, 'optimizer': 'adam', 'model': 'resnet'},\n",
       " {'batch-size': 64, 'optimizer': 'adam', 'model': 'vgg'},\n",
       " {'batch-size': 64, 'optimizer': 'sgd', 'model': 'resnet'},\n",
       " {'batch-size': 64, 'optimizer': 'sgd', 'model': 'vgg'},\n",
       " {'batch-size': 256, 'optimizer': 'adam', 'model': 'resnet'},\n",
       " {'batch-size': 256, 'optimizer': 'adam', 'model': 'vgg'},\n",
       " {'batch-size': 256, 'optimizer': 'sgd', 'model': 'resnet'},\n",
       " {'batch-size': 256, 'optimizer': 'sgd', 'model': 'vgg'}]"
      ]
     },
     "execution_count": 8,
     "metadata": {},
     "output_type": "execute_result"
    }
   ],
   "source": [
    "hyperparam_options = {\n",
    "    'batch-size': [64, 256],\n",
    "    'optimizer': ['adam', 'sgd'],\n",
    "    'model': ['resnet', 'vgg']\n",
    "}\n",
    "\n",
    "hypnames, hypvalues = zip(*hyperparam_options.items())\n",
    "trial_hyperparameter_set = [dict(zip(hypnames, h)) for h in itertools.product(*hypvalues)]\n",
    "trial_hyperparameter_set"
   ]
  },
  {
   "cell_type": "code",
   "execution_count": 9,
   "metadata": {},
   "outputs": [],
   "source": [
    "with Tracker.create(display_name=\"experiment-metadata\", \n",
    "                    artifact_bucket=bucket_name,\n",
    "                    artifact_prefix=training_experiment.experiment_name,\n",
    "                    sagemaker_boto_client=sm) as exp_tracker:\n",
    "    exp_tracker.log_input(name=\"cifar10-dataset\", media_type=\"s3/uri\", value=datasets)\n",
    "    exp_tracker.log_parameters(static_hyperparams)\n",
    "    exp_tracker.log_parameters(hyperparam_options)\n",
    "    exp_tracker.log_artifact(file_path='clear_experiments.ipynb')"
   ]
  },
  {
   "cell_type": "code",
   "execution_count": 10,
   "metadata": {},
   "outputs": [
    {
     "name": "stderr",
     "output_type": "stream",
     "text": [
      "INFO:sagemaker:Creating training-job with name: training-64-adam-resnet-1593565145\n",
      "INFO:sagemaker:Creating training-job with name: training-64-adam-vgg-1593565150\n"
     ]
    }
   ],
   "source": [
    "from sagemaker.tensorflow import TensorFlow\n",
    "\n",
    "for trial_hyp in trial_hyperparameter_set[:2]:\n",
    "    hyperparams = {**static_hyperparams, **trial_hyp}\n",
    "    \n",
    "    time_append = int(time.time())\n",
    "    hyp_append = \"-\".join([str(elm) for elm in trial_hyp.values()])\n",
    "    job_name = f'training-{hyp_append}-{time_append}'\n",
    "    \n",
    "    with Tracker.create(display_name=f\"trial-metadata-{time_append}\",\n",
    "                    artifact_bucket=bucket_name,\n",
    "                    artifact_prefix=f\"{training_experiment.experiment_name}/{job_name}\",\n",
    "                    sagemaker_boto_client=sm) as trial_tracker:\n",
    "        trial_tracker.log_parameters(hyperparams)\n",
    "\n",
    "        \n",
    "    tf_trial = Trial.create(\n",
    "        trial_name = f'trial-{hyp_append}-{time_append}', \n",
    "        experiment_name = training_experiment.experiment_name,\n",
    "        sagemaker_boto_client = sm)\n",
    "    tf_trial.add_trial_component(exp_tracker.trial_component)\n",
    "    tf_trial.add_trial_component(trial_tracker.trial_component)\n",
    "    \n",
    "    experiment_config = {\"ExperimentName\"             : training_experiment.experiment_name, \n",
    "                           \"TrialName\"                : tf_trial.trial_name,\n",
    "                           \"TrialComponentDisplayName\": job_name}\n",
    "    \n",
    "    tf_estimator = TensorFlow(entry_point          = 'cifar10-training-sagemaker.py', \n",
    "                              source_dir           = 'code',\n",
    "                              output_path          = f's3://{bucket_name}/{training_experiment.experiment_name}/',\n",
    "                              code_location        = f's3://{bucket_name}/{training_experiment.experiment_name}',\n",
    "                              role                 = role,\n",
    "                              train_instance_count = 1, \n",
    "                              train_instance_type  = 'ml.p3.2xlarge',\n",
    "                              framework_version    = '1.15', \n",
    "                              py_version           = 'py3',\n",
    "                              script_mode          = True,\n",
    "                              metric_definitions   = [{'Name': 'val_acc', 'Regex': 'val_acc:([0-9\\\\.]+)'}],\n",
    "                              sagemaker_session    = sagemaker_session,\n",
    "                              hyperparameters      = hyperparams)\n",
    "    \n",
    "    \n",
    "    tf_estimator.fit({'training'  : datasets,\n",
    "                      'validation': datasets,\n",
    "                      'eval'      : datasets},\n",
    "                      job_name = job_name,\n",
    "                      wait     = False,\n",
    "                      experiment_config = experiment_config)\n",
    "    \n",
    "    time.sleep(2)"
   ]
  },
  {
   "cell_type": "code",
   "execution_count": 11,
   "metadata": {},
   "outputs": [],
   "source": [
    "# [trial_component.trial_component_name for trial_component in single_gpu_trial.list_trial_components()]"
   ]
  },
  {
   "cell_type": "code",
   "execution_count": 12,
   "metadata": {},
   "outputs": [],
   "source": [
    "# from sagemaker.analytics import ExperimentAnalytics\n",
    "\n",
    "# trial_component_analytics = ExperimentAnalytics(\n",
    "#     sagemaker_session=sagemaker_session, \n",
    "#     experiment_name=tf_experiment.experiment_name,\n",
    "#     parameter_names=['model-type', 'batch-size', 'epochs', 'learning-rate', 'optimizer']\n",
    "# )"
   ]
  }
 ],
 "metadata": {
  "instance_type": "ml.t3.medium",
  "kernelspec": {
   "display_name": "Python 3 (TensorFlow CPU Optimized)",
   "language": "python",
   "name": "python3__SAGEMAKER_INTERNAL__arn:aws:sagemaker:us-west-2:236514542706:image/tensorflow-1.15-cpu-py36"
  },
  "language_info": {
   "codemirror_mode": {
    "name": "ipython",
    "version": 3
   },
   "file_extension": ".py",
   "mimetype": "text/x-python",
   "name": "python",
   "nbconvert_exporter": "python",
   "pygments_lexer": "ipython3",
   "version": "3.6.9"
  }
 },
 "nbformat": 4,
 "nbformat_minor": 4
}
