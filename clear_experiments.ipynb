{
 "cells": [
  {
   "cell_type": "markdown",
   "metadata": {},
   "source": [
    "## Warning: \n",
    "\n",
    "This notebook wipes your Experiment history clean. Use only if you want to start fresh. You will lose all experiments, trials, trial components and hosted endpoints if you run this notebook.\n",
    "\n",
    "You have been warned."
   ]
  },
  {
   "cell_type": "code",
   "execution_count": null,
   "metadata": {},
   "outputs": [],
   "source": [
    "# !pip install -q --upgrade pip\n",
    "# !pip install -q sagemaker smdebug awscli sagemaker-experiments --upgrade"
   ]
  },
  {
   "cell_type": "code",
   "execution_count": null,
   "metadata": {},
   "outputs": [],
   "source": [
    "from smexperiments.experiment import Experiment\n",
    "from smexperiments.trial import Trial\n",
    "from smexperiments.trial_component import TrialComponent\n",
    "from smexperiments.tracker import Tracker"
   ]
  },
  {
   "cell_type": "code",
   "execution_count": null,
   "metadata": {},
   "outputs": [],
   "source": [
    "import time\n",
    "import boto3\n",
    "sess = boto3.Session()\n",
    "sm = sess.client('sagemaker')"
   ]
  },
  {
   "cell_type": "code",
   "execution_count": null,
   "metadata": {},
   "outputs": [],
   "source": [
    "def cleanup_experiment(experiment):\n",
    "    for trial_summary in experiment.list_trials():\n",
    "        try:\n",
    "            trial = Trial.load(sagemaker_boto_client=sm, trial_name=trial_summary.trial_name)\n",
    "            for trial_component_summary in trial.list_trial_components():\n",
    "                tc = TrialComponent.load(\n",
    "                    sagemaker_boto_client=sm,\n",
    "                    trial_component_name=trial_component_summary.trial_component_name)\n",
    "                try:\n",
    "                    trial.remove_trial_component(tc)\n",
    "                    print(f'Deleting trial component: {tc.trial_component_name}')\n",
    "                    tc.delete()\n",
    "                except:\n",
    "                    time.sleep(0.4)\n",
    "                    continue\n",
    "            print(f'Deleting trial: {trial.trial_name}')\n",
    "            trial.delete()\n",
    "        except:\n",
    "            continue\n",
    "    print(f'Deleting experiment: {experiment.experiment_name}')\n",
    "    experiment.delete()"
   ]
  },
  {
   "cell_type": "markdown",
   "metadata": {},
   "source": [
    "#### List of existing experiments"
   ]
  },
  {
   "cell_type": "code",
   "execution_count": null,
   "metadata": {},
   "outputs": [],
   "source": [
    "exp_names = [exp.experiment_name for exp in Experiment.list(sagemaker_boto_client=sm)]\n",
    "print('Current experiments:')\n",
    "exp_names"
   ]
  },
  {
   "cell_type": "code",
   "execution_count": null,
   "metadata": {},
   "outputs": [],
   "source": [
    "for exp in exp_names:\n",
    "    cleanup_experiment(Experiment.load(exp))"
   ]
  },
  {
   "cell_type": "markdown",
   "metadata": {},
   "source": [
    "#### Delete unassigned trial components"
   ]
  },
  {
   "cell_type": "code",
   "execution_count": null,
   "metadata": {},
   "outputs": [],
   "source": [
    "for tc in TrialComponent.list(sagemaker_boto_client=sm):\n",
    "    try:\n",
    "        sm.delete_trial_component(TrialComponentName=tc.trial_component_name)\n",
    "        print(f'Deleted: {tc.trial_component_name}')\n",
    "        time.sleep(0.4)\n",
    "    except:\n",
    "        continue"
   ]
  },
  {
   "cell_type": "markdown",
   "metadata": {},
   "source": [
    "#### Delete all endpoints"
   ]
  },
  {
   "cell_type": "code",
   "execution_count": null,
   "metadata": {},
   "outputs": [],
   "source": [
    "for en in sm.list_endpoints()['Endpoints']:\n",
    "    try:\n",
    "        print(en['EndpointName'])\n",
    "        sm.delete_endpoint(EndpointName=en['EndpointName'])\n",
    "        time.sleep(0.4)\n",
    "    except:\n",
    "        continue"
   ]
  }
 ],
 "metadata": {
  "instance_type": "ml.t3.medium",
  "kernelspec": {
   "display_name": "Python 3 (TensorFlow CPU Optimized)",
   "language": "python",
   "name": "python3__SAGEMAKER_INTERNAL__arn:aws:sagemaker:us-west-2:236514542706:image/tensorflow-1.15-cpu-py36"
  },
  "language_info": {
   "codemirror_mode": {
    "name": "ipython",
    "version": 3
   },
   "file_extension": ".py",
   "mimetype": "text/x-python",
   "name": "python",
   "nbconvert_exporter": "python",
   "pygments_lexer": "ipython3",
   "version": "3.6.9"
  }
 },
 "nbformat": 4,
 "nbformat_minor": 4
}
